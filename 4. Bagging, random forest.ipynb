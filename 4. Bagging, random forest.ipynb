{
 "cells": [
  {
   "cell_type": "markdown",
   "metadata": {},
   "source": [
    "# <center>Композиции алгоритмов"
   ]
  },
  {
   "cell_type": "markdown",
   "metadata": {},
   "source": [
    "Будем решать задачу кредитного скоринга.\n",
    "\n",
    "#### Данные по кредитному скорингу представлены следующим образом:\n",
    "\n",
    "##### Прогнозируемая  переменная\n",
    "* SeriousDlqin2yrs\t– наличие длительных просрочек выплат платежей за 2 года.\n",
    "\n",
    "##### Независимые признаки\n",
    "* age – возраст заёмщика (число полных лет);\n",
    "* NumberOfTime30-59DaysPastDueNotWorse\t– количество раз, когда заёмщик имел просрочку выплаты других кредитов 30-59 дней в течение последних двух лет;\n",
    "* NumberOfTime60-89DaysPastDueNotWorse – количество раз, когда заёмщик имел просрочку выплаты других кредитов 60-89 дней в течение последних двух лет;\n",
    "* NumberOfTimes90DaysLate – количество раз, когда заёмщик имел просрочку выплаты других кредитов более 90 дней;\n",
    "* DebtRatio – ежемесячные отчисления на задолжености (кредиты, алименты и т.д.) / совокупный месячный доход;\n",
    "* MonthlyIncome\t– месячный доход в долларах;\n",
    "* NumberOfDependents – число человек в семье кредитозаёмщика."
   ]
  },
  {
   "cell_type": "code",
   "execution_count": 1,
   "metadata": {},
   "outputs": [],
   "source": [
    "import numpy as np\n",
    "import pandas as pd\n",
    "\n",
    "from sklearn.tree import DecisionTreeClassifier\n",
    "from sklearn.metrics import roc_auc_score, make_scorer\n",
    "from sklearn.model_selection import GridSearchCV, StratifiedKFold, cross_val_score\n",
    "\n",
    "import matplotlib.pyplot as plt\n",
    "# %matplotlib inline"
   ]
  },
  {
   "cell_type": "code",
   "execution_count": 2,
   "metadata": {
    "scrolled": false
   },
   "outputs": [
    {
     "name": "stdout",
     "output_type": "stream",
     "text": [
      "<class 'pandas.core.frame.DataFrame'>\n",
      "RangeIndex: 45063 entries, 0 to 45062\n",
      "Data columns (total 8 columns):\n",
      " #   Column                                Non-Null Count  Dtype  \n",
      "---  ------                                --------------  -----  \n",
      " 0   SeriousDlqin2yrs                      45063 non-null  int64  \n",
      " 1   age                                   45063 non-null  int64  \n",
      " 2   NumberOfTime30-59DaysPastDueNotWorse  45063 non-null  int64  \n",
      " 3   DebtRatio                             45063 non-null  float64\n",
      " 4   NumberOfTimes90DaysLate               45063 non-null  int64  \n",
      " 5   NumberOfTime60-89DaysPastDueNotWorse  45063 non-null  int64  \n",
      " 6   MonthlyIncome                         36420 non-null  float64\n",
      " 7   NumberOfDependents                    43946 non-null  float64\n",
      "dtypes: float64(3), int64(5)\n",
      "memory usage: 2.8 MB\n"
     ]
    },
    {
     "data": {
      "text/html": [
       "<div>\n",
       "<style scoped>\n",
       "    .dataframe tbody tr th:only-of-type {\n",
       "        vertical-align: middle;\n",
       "    }\n",
       "\n",
       "    .dataframe tbody tr th {\n",
       "        vertical-align: top;\n",
       "    }\n",
       "\n",
       "    .dataframe thead th {\n",
       "        text-align: right;\n",
       "    }\n",
       "</style>\n",
       "<table border=\"1\" class=\"dataframe\">\n",
       "  <thead>\n",
       "    <tr style=\"text-align: right;\">\n",
       "      <th></th>\n",
       "      <th>SeriousDlqin2yrs</th>\n",
       "      <th>age</th>\n",
       "      <th>NumberOfTime30-59DaysPastDueNotWorse</th>\n",
       "      <th>DebtRatio</th>\n",
       "      <th>NumberOfTimes90DaysLate</th>\n",
       "      <th>NumberOfTime60-89DaysPastDueNotWorse</th>\n",
       "      <th>MonthlyIncome</th>\n",
       "      <th>NumberOfDependents</th>\n",
       "    </tr>\n",
       "  </thead>\n",
       "  <tbody>\n",
       "    <tr>\n",
       "      <th>0</th>\n",
       "      <td>0</td>\n",
       "      <td>64</td>\n",
       "      <td>0</td>\n",
       "      <td>0.249908</td>\n",
       "      <td>0</td>\n",
       "      <td>0</td>\n",
       "      <td>8158.0</td>\n",
       "      <td>0.0</td>\n",
       "    </tr>\n",
       "    <tr>\n",
       "      <th>1</th>\n",
       "      <td>0</td>\n",
       "      <td>58</td>\n",
       "      <td>0</td>\n",
       "      <td>3870.000000</td>\n",
       "      <td>0</td>\n",
       "      <td>0</td>\n",
       "      <td>NaN</td>\n",
       "      <td>0.0</td>\n",
       "    </tr>\n",
       "    <tr>\n",
       "      <th>2</th>\n",
       "      <td>0</td>\n",
       "      <td>41</td>\n",
       "      <td>0</td>\n",
       "      <td>0.456127</td>\n",
       "      <td>0</td>\n",
       "      <td>0</td>\n",
       "      <td>6666.0</td>\n",
       "      <td>0.0</td>\n",
       "    </tr>\n",
       "    <tr>\n",
       "      <th>3</th>\n",
       "      <td>0</td>\n",
       "      <td>43</td>\n",
       "      <td>0</td>\n",
       "      <td>0.000190</td>\n",
       "      <td>0</td>\n",
       "      <td>0</td>\n",
       "      <td>10500.0</td>\n",
       "      <td>2.0</td>\n",
       "    </tr>\n",
       "    <tr>\n",
       "      <th>4</th>\n",
       "      <td>1</td>\n",
       "      <td>49</td>\n",
       "      <td>0</td>\n",
       "      <td>0.271820</td>\n",
       "      <td>0</td>\n",
       "      <td>0</td>\n",
       "      <td>400.0</td>\n",
       "      <td>0.0</td>\n",
       "    </tr>\n",
       "  </tbody>\n",
       "</table>\n",
       "</div>"
      ],
      "text/plain": [
       "   SeriousDlqin2yrs  age  NumberOfTime30-59DaysPastDueNotWorse    DebtRatio  \\\n",
       "0                 0   64                                     0     0.249908   \n",
       "1                 0   58                                     0  3870.000000   \n",
       "2                 0   41                                     0     0.456127   \n",
       "3                 0   43                                     0     0.000190   \n",
       "4                 1   49                                     0     0.271820   \n",
       "\n",
       "   NumberOfTimes90DaysLate  NumberOfTime60-89DaysPastDueNotWorse  \\\n",
       "0                        0                                     0   \n",
       "1                        0                                     0   \n",
       "2                        0                                     0   \n",
       "3                        0                                     0   \n",
       "4                        0                                     0   \n",
       "\n",
       "   MonthlyIncome  NumberOfDependents  \n",
       "0         8158.0                 0.0  \n",
       "1            NaN                 0.0  \n",
       "2         6666.0                 0.0  \n",
       "3        10500.0                 2.0  \n",
       "4          400.0                 0.0  "
      ]
     },
     "execution_count": 2,
     "metadata": {},
     "output_type": "execute_result"
    }
   ],
   "source": [
    "data = pd.read_csv('credit_scoring_sample.csv', sep=';')\n",
    "data.info()\n",
    "data.head()"
   ]
  },
  {
   "cell_type": "markdown",
   "metadata": {},
   "source": [
    "Заполните медианой пропуски в данных. Выделите в отдельные переменные `X` и `y` матрицу объекты-признаки и целевую переменную."
   ]
  },
  {
   "cell_type": "code",
   "execution_count": 3,
   "metadata": {},
   "outputs": [
    {
     "name": "stdout",
     "output_type": "stream",
     "text": [
      "<class 'pandas.core.frame.DataFrame'>\n",
      "RangeIndex: 45063 entries, 0 to 45062\n",
      "Data columns (total 8 columns):\n",
      " #   Column                                Non-Null Count  Dtype  \n",
      "---  ------                                --------------  -----  \n",
      " 0   SeriousDlqin2yrs                      45063 non-null  int64  \n",
      " 1   age                                   45063 non-null  int64  \n",
      " 2   NumberOfTime30-59DaysPastDueNotWorse  45063 non-null  int64  \n",
      " 3   DebtRatio                             45063 non-null  float64\n",
      " 4   NumberOfTimes90DaysLate               45063 non-null  int64  \n",
      " 5   NumberOfTime60-89DaysPastDueNotWorse  45063 non-null  int64  \n",
      " 6   MonthlyIncome                         45063 non-null  float64\n",
      " 7   NumberOfDependents                    45063 non-null  float64\n",
      "dtypes: float64(3), int64(5)\n",
      "memory usage: 2.8 MB\n"
     ]
    }
   ],
   "source": [
    "data.fillna(data.describe().loc[\"50%\"].to_dict(), inplace=True)\n",
    "data.info()"
   ]
  },
  {
   "cell_type": "markdown",
   "metadata": {},
   "source": [
    "## 1. Дерево решений"
   ]
  },
  {
   "cell_type": "markdown",
   "metadata": {},
   "source": [
    "Задайте решающее дерево, пользуясь встроенной функцией `DecisionTreeClassifier` с параметрами `random_state=17` и `class_weight='balanced'`."
   ]
  },
  {
   "cell_type": "code",
   "execution_count": 4,
   "metadata": {},
   "outputs": [],
   "source": [
    "tree = DecisionTreeClassifier(random_state=17, class_weight=\"balanced\")"
   ]
  },
  {
   "cell_type": "markdown",
   "metadata": {},
   "source": [
    "Используйте функцию `GridSearchCV` для выбора оптимального набора гиперпараметров для указанной задачи. В качестве метрики качества возьмите ROC AUC."
   ]
  },
  {
   "cell_type": "code",
   "execution_count": 5,
   "metadata": {},
   "outputs": [],
   "source": [
    "max_depth_values = [3, 5, 6, 7, 9]\n",
    "max_features_values = [4, 5, 6, 7]\n",
    "tree_params = {'max_depth': max_depth_values,\n",
    "               'max_features': max_features_values}"
   ]
  },
  {
   "cell_type": "markdown",
   "metadata": {},
   "source": [
    "Зафиксируйте кросс-валидацию с помощью функции `StratifiedKFold` на 5 разбиений с перемешиванием, `random_state=17`."
   ]
  },
  {
   "cell_type": "code",
   "execution_count": 6,
   "metadata": {},
   "outputs": [
    {
     "data": {
      "text/plain": [
       "((45063, 7), (45063,))"
      ]
     },
     "execution_count": 6,
     "metadata": {},
     "output_type": "execute_result"
    }
   ],
   "source": [
    "X = data.drop(\"SeriousDlqin2yrs\", axis=1).values\n",
    "y = data[\"SeriousDlqin2yrs\"].values\n",
    "X.shape, y.shape"
   ]
  },
  {
   "cell_type": "code",
   "execution_count": 7,
   "metadata": {},
   "outputs": [
    {
     "name": "stdout",
     "output_type": "stream",
     "text": [
      "Wall time: 5.97 s\n"
     ]
    },
    {
     "data": {
      "text/plain": [
       "GridSearchCV(cv=StratifiedKFold(n_splits=5, random_state=42, shuffle=True),\n",
       "             estimator=DecisionTreeClassifier(class_weight='balanced',\n",
       "                                              random_state=17),\n",
       "             param_grid={'max_depth': [3, 5, 6, 7, 9],\n",
       "                         'max_features': [4, 5, 6, 7]},\n",
       "             scoring=make_scorer(roc_auc_score))"
      ]
     },
     "execution_count": 7,
     "metadata": {},
     "output_type": "execute_result"
    }
   ],
   "source": [
    "%%time\n",
    "\n",
    "gs = GridSearchCV(\n",
    "    estimator=tree,\n",
    "    param_grid=tree_params,\n",
    "    cv=StratifiedKFold(n_splits=5, shuffle=True, random_state=42),\n",
    "    scoring=make_scorer(roc_auc_score)\n",
    ")\n",
    "\n",
    "gs.fit(X, y)"
   ]
  },
  {
   "cell_type": "markdown",
   "metadata": {},
   "source": [
    "Какое максимальное значение ROC AUC получилось?"
   ]
  },
  {
   "cell_type": "code",
   "execution_count": 8,
   "metadata": {},
   "outputs": [
    {
     "name": "stdout",
     "output_type": "stream",
     "text": [
      "ROC AUC: 0.74\n"
     ]
    }
   ],
   "source": [
    "print(\"ROC AUC: {:.2f}\".format(roc_auc_score(gs.best_estimator_.predict(X), y)))"
   ]
  },
  {
   "cell_type": "code",
   "execution_count": 9,
   "metadata": {},
   "outputs": [
    {
     "data": {
      "text/plain": [
       "{'max_depth': 5, 'max_features': 7}"
      ]
     },
     "execution_count": 9,
     "metadata": {},
     "output_type": "execute_result"
    }
   ],
   "source": [
    "gs.best_params_"
   ]
  },
  {
   "cell_type": "markdown",
   "metadata": {},
   "source": [
    "## 2. Реализация бэггинга"
   ]
  },
  {
   "cell_type": "markdown",
   "metadata": {},
   "source": [
    "Реализуйте класс `BaggingClassifierCustom`. В качестве базового классификатора может выступать любой классификатор, и в реализации необходимо сохранить эту свободу выбора. По умолчанию будем использовать композицию из 10 решающих деревьев, предсказанные вероятности которых необходимо будет усреднить.\n",
    "\n",
    "Краткая спецификация: \n",
    " - В классе `BaggingClassifierCustom` наследуйте методы `sklearn.base.BaseEstimator`.\n",
    " - В методе `fit` в цикле (`i` от 0 до `n_estimators-1`) фиксируйте seed, равный (`random_state + i`). Это нужно для того, чтобы на каждой итерации seed был новый, при этом все значения можно было бы воспроизвести.\n",
    " - Зафиксировав seed, сделайте bootstrap-выборку (т.е. **с замещением**) из множества id объектов.\n",
    " - Найдите индексы объектов, которые не попали в обучающую выборку.\n",
    " - Обучите базовый классификатор на выборке с нужным подмножеством объектов.\n",
    " - В методе `predict_proba` нужен цикл по всем базовым алгоритмам композиции. Для тестовой выборки (аргумент `X` в методе) нужно сделать прогноз вероятностей (`predict_proba`). Метод должен вернуть усреднение прогнозов всех базовых алгоритмов.\n",
    " - В методе `oob_score` необходимо получить качество (по умолчанию пусть будет ROC AUC) композиции на тех объектах, которые не попали в bootstrap-выборки."
   ]
  },
  {
   "cell_type": "code",
   "execution_count": 10,
   "metadata": {},
   "outputs": [],
   "source": [
    "from sklearn.base import BaseEstimator, ClassifierMixin"
   ]
  },
  {
   "cell_type": "code",
   "execution_count": 11,
   "metadata": {},
   "outputs": [],
   "source": [
    "class BaggingClassifierCustom(ClassifierMixin, BaseEstimator):\n",
    "    def __init__(\n",
    "        self, \n",
    "        base_estimator,\n",
    "        n_estimators: int = 10, \n",
    "        max_samples: int = 1, \n",
    "        min_features: int = 1, \n",
    "        max_features: int = 1, \n",
    "        oob_score: bool = False,\n",
    "        oob_scoring=None,\n",
    "        bootstrap: bool = True,\n",
    "        bootstrap_features: bool = False,\n",
    "        random_state: int = None\n",
    "    ):\n",
    "        self.base_estimator = base_estimator\n",
    "        self.n_estimators = n_estimators\n",
    "        self.max_samples = max_samples\n",
    "        self.min_features = min_features\n",
    "        self.max_features = max_features\n",
    "        self.oob_score = oob_score\n",
    "        self.oob_scoring = oob_scoring\n",
    "        self.random_state = random_state\n",
    "        self.bootstrap = bootstrap\n",
    "        self.bootstrap_features = bootstrap_features\n",
    "        \n",
    "        self.estimators_ = []\n",
    "        self.estimators_features_ = []\n",
    "        self.oob_score_ = None\n",
    "        \n",
    "    def fit(self, X, y):\n",
    "        self.estimators_ = []\n",
    "        self.estimators_features_ = []\n",
    "        self.oob_score_ = None\n",
    "        \n",
    "        seed = self.random_state if self.random_state is not None else 0\n",
    "        n_samples, n_features = X.shape\n",
    "        \n",
    "        if self.oob_score:\n",
    "            oob_score = 0\n",
    "        \n",
    "        for i in range(self.n_estimators):\n",
    "            np.random.seed(seed + i)\n",
    "            \n",
    "            features = np.random.choice(\n",
    "                np.arange(n_features), \n",
    "                size=np.random.randint(self.min_features, 1 + self.max_features), \n",
    "                replace=self.bootstrap_features\n",
    "            )\n",
    "            \n",
    "            indices = np.random.choice(\n",
    "                np.arange(n_samples), \n",
    "                size=np.random.randint(1, self.max_samples), \n",
    "                replace=self.bootstrap\n",
    "            )\n",
    "            \n",
    "            X_train = X[indices][:, features]\n",
    "            y_train = y[indices]\n",
    "            estimator = self.base_estimator.__class__()\n",
    "            estimator.set_params(**self.base_estimator.get_params())\n",
    "            estimator.fit(X_train, y_train)\n",
    "            \n",
    "            self.estimators_.append(estimator)\n",
    "            self.estimators_features_.append(features)\n",
    "            \n",
    "            if self.oob_score:\n",
    "                oob = self.__out_of_bag(np.arange(n_samples), indices)\n",
    "                if self.oob_scoring is None:\n",
    "                    oob_score += estimator.score(X[oob][:, features], y[oob])\n",
    "                else:\n",
    "                    oob_score += self.oob_scoring(estimator.predict(X[oob][:, features]), y[oob])\n",
    "                \n",
    "        if self.oob_score:\n",
    "            self.oob_score_ = oob_score / self.n_estimators\n",
    "            \n",
    "        return self\n",
    "            \n",
    "    \n",
    "    def predict(self, X):\n",
    "        return np.int64(np.round(self.predict_proba(X)))\n",
    "    \n",
    "    def predict_proba(self, X):\n",
    "        proba = np.zeros(X.shape[0])\n",
    "        for i in range(self.n_estimators):\n",
    "            X_test = X[:, self.estimators_features_[i]]\n",
    "            proba += self.estimators_[i].predict(X_test)\n",
    "        return proba / self.n_estimators\n",
    "    \n",
    "    @staticmethod\n",
    "    def __out_of_bag(array, bag):\n",
    "        return array[np.logical_not(np.any(array.reshape(-1, 1) == bag, axis=1))]"
   ]
  },
  {
   "cell_type": "code",
   "execution_count": 12,
   "metadata": {},
   "outputs": [],
   "source": [
    "bagging = BaggingClassifierCustom(\n",
    "    DecisionTreeClassifier(class_weight=\"balanced\", max_depth=5),\n",
    "    oob_scoring=roc_auc_score,\n",
    "    n_estimators=10,\n",
    "    random_state=17, \n",
    "    max_samples=round(X.shape[0] * 0.75),\n",
    "    max_features=X.shape[1],\n",
    "    oob_score=True\n",
    ")"
   ]
  },
  {
   "cell_type": "code",
   "execution_count": 13,
   "metadata": {},
   "outputs": [
    {
     "name": "stdout",
     "output_type": "stream",
     "text": [
      "Wall time: 8.64 s\n"
     ]
    },
    {
     "data": {
      "text/plain": [
       "BaggingClassifierCustom(base_estimator=DecisionTreeClassifier(class_weight='balanced', criterion='gini', max_depth=5,\n",
       "            max_features=None, max_leaf_nodes=None,\n",
       "            min_impurity_decrease=0.0, min_impurity_split=None,\n",
       "            min_samples_leaf=1, min_samples_split=2,\n",
       "            min_weight_fraction_leaf=0.0, presort=False, random_state=None,\n",
       "            splitter='best'),\n",
       "            bootstrap=True, bootstrap_features=False, max_features=7,\n",
       "            max_samples=33797, min_features=1, n_estimators=10,\n",
       "            oob_score=True,\n",
       "            oob_scoring=<function roc_auc_score at 0x000001FFD3C73A60>,\n",
       "            random_state=17)"
      ]
     },
     "execution_count": 13,
     "metadata": {},
     "output_type": "execute_result"
    }
   ],
   "source": [
    "%%time\n",
    "\n",
    "bagging.fit(X, y)"
   ]
  },
  {
   "cell_type": "code",
   "execution_count": 14,
   "metadata": {},
   "outputs": [
    {
     "name": "stdout",
     "output_type": "stream",
     "text": [
      "ROC AUC: 0.74\n"
     ]
    }
   ],
   "source": [
    "print(\"ROC AUC: {:.2f}\".format(roc_auc_score(bagging.predict(X), y)))"
   ]
  },
  {
   "cell_type": "code",
   "execution_count": 15,
   "metadata": {},
   "outputs": [
    {
     "name": "stdout",
     "output_type": "stream",
     "text": [
      "Out of bag score: 0.69\n"
     ]
    }
   ],
   "source": [
    "print(\"Out of bag score: {:.2f}\".format(bagging.oob_score_))"
   ]
  },
  {
   "cell_type": "markdown",
   "metadata": {},
   "source": [
    "Оцените качество полученного классификатора на кросс-валидации с метрикой ROC AUC. В качестве базового алгоритма используйте дерево решений с параметрами из первого задания. Какого качества удалось достичь по сравнению с одним решающим деревом?"
   ]
  },
  {
   "cell_type": "code",
   "execution_count": 16,
   "metadata": {},
   "outputs": [],
   "source": [
    "kf = StratifiedKFold(n_splits=5, shuffle=True, random_state=42)"
   ]
  },
  {
   "cell_type": "code",
   "execution_count": 17,
   "metadata": {},
   "outputs": [
    {
     "name": "stdout",
     "output_type": "stream",
     "text": [
      "Wall time: 34.5 s\n"
     ]
    }
   ],
   "source": [
    "%%time\n",
    "\n",
    "cv_result = []\n",
    "for train_index, test_index in kf.split(X, y):\n",
    "    model = bagging.fit(X[train_index], y[train_index])\n",
    "    y_pred = model.predict(X[test_index])\n",
    "    cv_result.append(roc_auc_score(y_pred, y[test_index]))"
   ]
  },
  {
   "cell_type": "code",
   "execution_count": 18,
   "metadata": {},
   "outputs": [
    {
     "name": "stdout",
     "output_type": "stream",
     "text": [
      "Результаты CV: [0.7402, 0.7303, 0.7337, 0.7352, 0.7271]\n",
      "Среднее значение CV: 0.733287\n"
     ]
    }
   ],
   "source": [
    "print(\n",
    "    (\"Результаты CV: [\" + \"{:.4f}, \" * 4 + \"{:.4f}]\").format(*cv_result),\n",
    "    \"Среднее значение CV: {:4f}\".format(sum(cv_result) / len(cv_result)),\n",
    "    sep=\"\\n\"\n",
    ")"
   ]
  },
  {
   "cell_type": "markdown",
   "metadata": {},
   "source": [
    "Ранее были найдены оптимальные гиперпараметры для одного дерева, но может быть, для ансамбля эти параметры дерева не будут оптимальными. С помощью `GridSearchCV` рассмотрите другие варианты. Какими теперь стали лучшие значения гиперпараметров и чему равен ROC AUC?"
   ]
  },
  {
   "cell_type": "code",
   "execution_count": 19,
   "metadata": {},
   "outputs": [
    {
     "name": "stdout",
     "output_type": "stream",
     "text": [
      "Wall time: 1min 43s\n"
     ]
    }
   ],
   "source": [
    "%%time\n",
    "\n",
    "bagging_params = {\n",
    "    'base_estimator__max_depth': [3, 5, 6, 7, 9],\n",
    "    \"min_features\": [3, 5, 7],\n",
    "    \"n_estimators\": [5, 10, 15, 20, 25]\n",
    "    \n",
    "}\n",
    "\n",
    "bagging = BaggingClassifierCustom(\n",
    "    DecisionTreeClassifier(class_weight=\"balanced\", max_depth=5), \n",
    "    random_state=17, \n",
    "    max_samples=20000,  # сильно ускоряет\n",
    "    oob_score=False,  # сильно ускоряет\n",
    "    max_features=X.shape[1]\n",
    ")\n",
    "\n",
    "\n",
    "gs_b = GridSearchCV(\n",
    "    estimator=bagging,\n",
    "    param_grid=bagging_params,\n",
    "    cv=StratifiedKFold(n_splits=5, shuffle=True, random_state=42),\n",
    "    scoring=make_scorer(roc_auc_score)\n",
    ")\n",
    "\n",
    "gs_b.fit(X, y)"
   ]
  },
  {
   "cell_type": "code",
   "execution_count": 20,
   "metadata": {},
   "outputs": [
    {
     "name": "stdout",
     "output_type": "stream",
     "text": [
      "ROC AUC: 0.72\n"
     ]
    }
   ],
   "source": [
    "print(\"ROC AUC: {:.2f}\".format(roc_auc_score(gs_b.best_estimator_.predict(X), y)))"
   ]
  },
  {
   "cell_type": "markdown",
   "metadata": {},
   "source": [
    "## 3. Реализация случайного леса"
   ]
  },
  {
   "cell_type": "markdown",
   "metadata": {},
   "source": [
    "Теперь реализуйте случайный лес. В качестве базового алгоритма здесь всегда выступает `DecisionTreeClassifier`.\n",
    "\n",
    "Кроме индексов объектов теперь необходимо на каждом шаге алгоритма запоминать также индексы признаков, которые участвовали в обучении леса.\n",
    "\n",
    "- Зафиксировав seed, выберите **без замещения** `max_features` признаков, сохраните список выбранных id признаков в `self.feat_ids_by_tree`.\n",
    "- Обучите дерево с теми же `max_depth`, `max_features` и `random_state`, что и у `RandomForestClassifierCustom` на выборке с нужным подмножеством объектов и признаков.\n",
    "- В методе `predict_proba` у тестовой выборки нужно взять те признаки, на которых соответсвующее дерево обучалось, и сделать прогноз вероятностей (`predict_proba` уже для дерева). Метод должен вернуть усреднение прогнозов по всем деревьям."
   ]
  },
  {
   "cell_type": "markdown",
   "metadata": {},
   "source": [
    " "
   ]
  },
  {
   "cell_type": "markdown",
   "metadata": {},
   "source": [
    "***Так получилось, что я случайно реализовал случайный лес внутри бэггинга. Поэтому здесь мы сразу сравним качество с `sklearn`***"
   ]
  },
  {
   "cell_type": "markdown",
   "metadata": {},
   "source": [
    " "
   ]
  },
  {
   "cell_type": "markdown",
   "metadata": {},
   "source": [
    "Проведите кросс-валидацию. Какое получилось среднее значение ROC AUC на кросс-валидации? Сравните качество вашей реализации с реализацией `RandomForestClassifier` из `sklearn`. Аналогично предыдущему заданию, подберите гиперпараметры для случайного леса."
   ]
  },
  {
   "cell_type": "code",
   "execution_count": 21,
   "metadata": {},
   "outputs": [],
   "source": [
    "from sklearn.ensemble import RandomForestClassifier"
   ]
  },
  {
   "cell_type": "code",
   "execution_count": 22,
   "metadata": {},
   "outputs": [
    {
     "data": {
      "text/plain": [
       "{'bootstrap': True,\n",
       " 'class_weight': None,\n",
       " 'criterion': 'gini',\n",
       " 'max_depth': None,\n",
       " 'max_features': 'auto',\n",
       " 'max_leaf_nodes': None,\n",
       " 'min_impurity_decrease': 0.0,\n",
       " 'min_impurity_split': None,\n",
       " 'min_samples_leaf': 1,\n",
       " 'min_samples_split': 2,\n",
       " 'min_weight_fraction_leaf': 0.0,\n",
       " 'n_estimators': 10,\n",
       " 'n_jobs': 1,\n",
       " 'oob_score': False,\n",
       " 'random_state': None,\n",
       " 'verbose': 0,\n",
       " 'warm_start': False}"
      ]
     },
     "execution_count": 22,
     "metadata": {},
     "output_type": "execute_result"
    }
   ],
   "source": [
    "RandomForestClassifier().get_params()"
   ]
  },
  {
   "cell_type": "code",
   "execution_count": 30,
   "metadata": {},
   "outputs": [
    {
     "name": "stdout",
     "output_type": "stream",
     "text": [
      "Wall time: 25.8 s\n"
     ]
    }
   ],
   "source": [
    "%%time\n",
    "\n",
    "forest_params = {\n",
    "    \"max_depth\": [1, 2, 3, 5],\n",
    "    \"max_features\": [\"sqrt\", \"log2\"],\n",
    "    \"n_estimators\": [5, 10, 15, 25]\n",
    "}\n",
    "\n",
    "forest = RandomForestClassifier(random_state=42, class_weight=\"balanced\")\n",
    "\n",
    "gs_rf = GridSearchCV(\n",
    "    estimator=forest,\n",
    "    param_grid=forest_params,\n",
    "    cv=StratifiedKFold(n_splits=5, shuffle=True, random_state=42),\n",
    "    scoring=make_scorer(roc_auc_score)\n",
    ")\n",
    "\n",
    "gs_rf.fit(X, y)"
   ]
  },
  {
   "cell_type": "code",
   "execution_count": 32,
   "metadata": {},
   "outputs": [
    {
     "name": "stdout",
     "output_type": "stream",
     "text": [
      "ROC AUC: 0.72\n"
     ]
    }
   ],
   "source": [
    "print(\"ROC AUC: {:.2f}\".format(roc_auc_score(gs_rf.best_estimator_.predict(X), y)))"
   ]
  },
  {
   "cell_type": "code",
   "execution_count": null,
   "metadata": {},
   "outputs": [],
   "source": []
  }
 ],
 "metadata": {
  "kernelspec": {
   "display_name": "Python 3 (ipykernel)",
   "language": "python",
   "name": "python3"
  },
  "language_info": {
   "codemirror_mode": {
    "name": "ipython",
    "version": 3
   },
   "file_extension": ".py",
   "mimetype": "text/x-python",
   "name": "python",
   "nbconvert_exporter": "python",
   "pygments_lexer": "ipython3",
   "version": "3.7.11"
  }
 },
 "nbformat": 4,
 "nbformat_minor": 4
}
